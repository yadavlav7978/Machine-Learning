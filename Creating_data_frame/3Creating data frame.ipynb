{
 "cells": [
  {
   "cell_type": "code",
   "execution_count": 2,
   "id": "0c01e880",
   "metadata": {},
   "outputs": [],
   "source": [
    "import pandas as pd      # By using discnary we can create a data frame\n",
    "lav1={\n",
    "    'day':['1/1/2017','1/2/2017','1/3/2017'],\n",
    "    'temperature':[32,32,29],\n",
    "    'windspeed':[6,7,5]\n",
    "}\n",
    "df=pd.DataFrame(lav1)\n"
   ]
  },
  {
   "cell_type": "code",
   "execution_count": 3,
   "id": "f2ad03b3",
   "metadata": {},
   "outputs": [
    {
     "data": {
      "text/html": [
       "<div>\n",
       "<style scoped>\n",
       "    .dataframe tbody tr th:only-of-type {\n",
       "        vertical-align: middle;\n",
       "    }\n",
       "\n",
       "    .dataframe tbody tr th {\n",
       "        vertical-align: top;\n",
       "    }\n",
       "\n",
       "    .dataframe thead th {\n",
       "        text-align: right;\n",
       "    }\n",
       "</style>\n",
       "<table border=\"1\" class=\"dataframe\">\n",
       "  <thead>\n",
       "    <tr style=\"text-align: right;\">\n",
       "      <th></th>\n",
       "      <th>day</th>\n",
       "      <th>temperature</th>\n",
       "      <th>windspeed</th>\n",
       "    </tr>\n",
       "  </thead>\n",
       "  <tbody>\n",
       "    <tr>\n",
       "      <th>0</th>\n",
       "      <td>1/1/2017</td>\n",
       "      <td>32</td>\n",
       "      <td>6</td>\n",
       "    </tr>\n",
       "    <tr>\n",
       "      <th>1</th>\n",
       "      <td>1/2/2017</td>\n",
       "      <td>32</td>\n",
       "      <td>7</td>\n",
       "    </tr>\n",
       "    <tr>\n",
       "      <th>2</th>\n",
       "      <td>1/3/2017</td>\n",
       "      <td>29</td>\n",
       "      <td>5</td>\n",
       "    </tr>\n",
       "  </tbody>\n",
       "</table>\n",
       "</div>"
      ],
      "text/plain": [
       "        day  temperature  windspeed\n",
       "0  1/1/2017           32          6\n",
       "1  1/2/2017           32          7\n",
       "2  1/3/2017           29          5"
      ]
     },
     "execution_count": 3,
     "metadata": {},
     "output_type": "execute_result"
    }
   ],
   "source": [
    "df"
   ]
  },
  {
   "cell_type": "code",
   "execution_count": 4,
   "id": "86271f4b",
   "metadata": {},
   "outputs": [],
   "source": [
    "df.to_csv('lav1_csv')    # creating csv file of data frame 'df' and give name is 'lav1_csv' "
   ]
  },
  {
   "cell_type": "code",
   "execution_count": 7,
   "id": "343fc2dd",
   "metadata": {},
   "outputs": [],
   "source": [
    "stocks={\n",
    "    'ticker':['GGL','WMT','MSFT','RIL','TATA'],\n",
    "    'eps':[27.82,4.96,-1,'not avaliable',5.6],\n",
    "    'revanue':[845,65,64,1023,'na'],\n",
    "    'peple':['larry page','na','bill gates','mukesh ambani','ratan tata']\n",
    "}\n",
    "df2=pd.DataFrame(stocks)"
   ]
  },
  {
   "cell_type": "code",
   "execution_count": 8,
   "id": "a3332867",
   "metadata": {},
   "outputs": [
    {
     "data": {
      "text/html": [
       "<div>\n",
       "<style scoped>\n",
       "    .dataframe tbody tr th:only-of-type {\n",
       "        vertical-align: middle;\n",
       "    }\n",
       "\n",
       "    .dataframe tbody tr th {\n",
       "        vertical-align: top;\n",
       "    }\n",
       "\n",
       "    .dataframe thead th {\n",
       "        text-align: right;\n",
       "    }\n",
       "</style>\n",
       "<table border=\"1\" class=\"dataframe\">\n",
       "  <thead>\n",
       "    <tr style=\"text-align: right;\">\n",
       "      <th></th>\n",
       "      <th>ticker</th>\n",
       "      <th>eps</th>\n",
       "      <th>revanue</th>\n",
       "      <th>peple</th>\n",
       "    </tr>\n",
       "  </thead>\n",
       "  <tbody>\n",
       "    <tr>\n",
       "      <th>0</th>\n",
       "      <td>GGL</td>\n",
       "      <td>27.82</td>\n",
       "      <td>845</td>\n",
       "      <td>larry page</td>\n",
       "    </tr>\n",
       "    <tr>\n",
       "      <th>1</th>\n",
       "      <td>WMT</td>\n",
       "      <td>4.96</td>\n",
       "      <td>65</td>\n",
       "      <td>na</td>\n",
       "    </tr>\n",
       "    <tr>\n",
       "      <th>2</th>\n",
       "      <td>MSFT</td>\n",
       "      <td>-1</td>\n",
       "      <td>64</td>\n",
       "      <td>bill gates</td>\n",
       "    </tr>\n",
       "    <tr>\n",
       "      <th>3</th>\n",
       "      <td>RIL</td>\n",
       "      <td>not avaliable</td>\n",
       "      <td>1023</td>\n",
       "      <td>mukesh ambani</td>\n",
       "    </tr>\n",
       "    <tr>\n",
       "      <th>4</th>\n",
       "      <td>TATA</td>\n",
       "      <td>5.6</td>\n",
       "      <td>na</td>\n",
       "      <td>ratan tata</td>\n",
       "    </tr>\n",
       "  </tbody>\n",
       "</table>\n",
       "</div>"
      ],
      "text/plain": [
       "  ticker            eps revanue          peple\n",
       "0    GGL          27.82     845     larry page\n",
       "1    WMT           4.96      65             na\n",
       "2   MSFT             -1      64     bill gates\n",
       "3    RIL  not avaliable    1023  mukesh ambani\n",
       "4   TATA            5.6      na     ratan tata"
      ]
     },
     "execution_count": 8,
     "metadata": {},
     "output_type": "execute_result"
    }
   ],
   "source": [
    "df2"
   ]
  },
  {
   "cell_type": "code",
   "execution_count": 27,
   "id": "10d02930",
   "metadata": {},
   "outputs": [],
   "source": [
    "df2.to_csv('stocks_csv_file')  # creating  csv file of data frame\n"
   ]
  },
  {
   "cell_type": "code",
   "execution_count": 28,
   "id": "3c63e397",
   "metadata": {},
   "outputs": [],
   "source": [
    "df2.to_excel('stocks_excel_file.xlsx')    # creating  excel file of data frame"
   ]
  },
  {
   "cell_type": "code",
   "execution_count": null,
   "id": "76a7744c",
   "metadata": {},
   "outputs": [],
   "source": []
  }
 ],
 "metadata": {
  "kernelspec": {
   "display_name": "Python 3 (ipykernel)",
   "language": "python",
   "name": "python3"
  },
  "language_info": {
   "codemirror_mode": {
    "name": "ipython",
    "version": 3
   },
   "file_extension": ".py",
   "mimetype": "text/x-python",
   "name": "python",
   "nbconvert_exporter": "python",
   "pygments_lexer": "ipython3",
   "version": "3.9.12"
  }
 },
 "nbformat": 4,
 "nbformat_minor": 5
}
